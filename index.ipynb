{
 "cells": [
  {
   "cell_type": "markdown",
   "metadata": {},
   "source": [
    "## Gambling and sports betting"
   ]
  },
  {
   "cell_type": "markdown",
   "metadata": {},
   "source": [
    "## Exercise 1: Soccer World Cup"
   ]
  },
  {
   "cell_type": "markdown",
   "metadata": {},
   "source": [
    "Belgium is planning on making it far in the soccer world cup. Currently waiting from the group phase and already knowing that they are qualified, Belgium knows that there are 4 potential opponents they may face in the quarter finals. Projections for playing the following countries look as follows:\n",
    "\n",
    "- Brazil, with a 30% chance.\n",
    "- Colombia, with a 15% chance\n",
    "- Sweden, with 35% chance\n",
    "- Switzerland, with a 10% chance."
   ]
  },
  {
   "cell_type": "markdown",
   "metadata": {},
   "source": [
    "According to online betting company Ladbrokes, Belgiums chances of winning against these contries are given by the following probabilities:\n",
    "\n",
    "- Against Brazil, Belgium has a 27% chance of winning.\n",
    "- Against Colombia, Belgium has a 68% chance of winning.\n",
    "- Against Sweden, Belgium has a 55% chance of winning.\n",
    "- Against Switzerland, Belgium has a 73% chance of winning.\n"
   ]
  },
  {
   "cell_type": "code",
   "execution_count": 1,
   "metadata": {},
   "outputs": [],
   "source": [
    "p_brazil = .3\n",
    "p_colombia = .15\n",
    "p_swed = .35\n",
    "p_switz = .1"
   ]
  },
  {
   "cell_type": "code",
   "execution_count": 2,
   "metadata": {},
   "outputs": [],
   "source": [
    "p_win_brazil = .27\n",
    "p_win_colombia = .68\n",
    "p_win_swed = .55\n",
    "p_win_switz = .73"
   ]
  },
  {
   "cell_type": "markdown",
   "metadata": {},
   "source": [
    "Fast forward, and it turns out Belgium has won the quarter finals. What is the probability that they did NOT play against Brazil?"
   ]
  },
  {
   "cell_type": "code",
   "execution_count": null,
   "metadata": {},
   "outputs": [],
   "source": []
  },
  {
   "cell_type": "markdown",
   "metadata": {},
   "source": [
    "### Solution"
   ]
  },
  {
   "cell_type": "code",
   "execution_count": 10,
   "metadata": {},
   "outputs": [
    {
     "data": {
      "text/plain": [
       "0.8193979933110368"
      ]
     },
     "execution_count": 10,
     "metadata": {},
     "output_type": "execute_result"
    }
   ],
   "source": [
    "win = p_brazil*p_win_brazil + p_colombia * p_win_colombia + p_swed * p_win_swed + p_switz * p_win_switz\n",
    "\n",
    "prob_not_Brazil = 1-(p_brazil * p_win_brazil /win)\n",
    "prob_not_Brazil # correct answer: 0.8193979933110368d"
   ]
  },
  {
   "cell_type": "markdown",
   "metadata": {},
   "source": [
    "## Exercise 2: Probability that each person has one ace"
   ]
  },
  {
   "cell_type": "markdown",
   "metadata": {},
   "source": [
    "A deck of 52 cards is distributed between 4 people (so each player gets 13 cards). What is the probability that each player gets exactly one ace?"
   ]
  },
  {
   "cell_type": "markdown",
   "metadata": {},
   "source": [
    "### Solution"
   ]
  },
  {
   "cell_type": "code",
   "execution_count": 58,
   "metadata": {},
   "outputs": [
    {
     "data": {
      "text/plain": [
       "0.10549819927971187"
      ]
     },
     "execution_count": 58,
     "metadata": {},
     "output_type": "execute_result"
    }
   ],
   "source": [
    "import math\n",
    "import scipy.special as prob\n",
    "\n",
    "#outcomes where everyone gets 12 non aces\n",
    "num = prob.comb(48,12) * prob.comb(36,12) * prob.comb(24,12) * math.factorial(4)\n",
    "\n",
    "#total combinations\n",
    "denom = prob.comb(52,13) * prob.comb(39,13) * prob.comb(26,13)\n",
    "\n",
    "#alt solution\n",
    "# num = 13**4\n",
    "# denom = prob.comb(52,4)\n",
    "\n",
    "everyone_one_ace = num/denom\n",
    "\n",
    "everyone_one_ace # correct answer: 0.10549819927971187\n"
   ]
  },
  {
   "cell_type": "markdown",
   "metadata": {},
   "source": [
    "## Exercise 3: Poker: four of a kind"
   ]
  },
  {
   "cell_type": "markdown",
   "metadata": {},
   "source": [
    "If you're being dealt 5 cards, what is the probability for you to get four of a kind?"
   ]
  },
  {
   "cell_type": "markdown",
   "metadata": {},
   "source": [
    "### Solution"
   ]
  },
  {
   "cell_type": "code",
   "execution_count": 52,
   "metadata": {
    "scrolled": true
   },
   "outputs": [
    {
     "data": {
      "text/plain": [
       "0.00024009603841536616"
      ]
     },
     "execution_count": 52,
     "metadata": {},
     "output_type": "execute_result"
    }
   ],
   "source": [
    "# num of different possiblities - first card doesnt matter, so its 48 cards you cant draw * 13 for the first drawn card\n",
    "num = prob.comb(13,1) *prob.comb(4,4) * prob.comb(48,1)\n",
    "#total outcomes\n",
    "denom = prob.comb(52,5)\n",
    "\n",
    "four_of_a_kind = num/denom\n",
    "four_of_a_kind # correct answer: 0.00024009603841536616"
   ]
  },
  {
   "cell_type": "markdown",
   "metadata": {},
   "source": [
    "## Exercise 4: Poker: 3 of a kind"
   ]
  },
  {
   "cell_type": "markdown",
   "metadata": {},
   "source": [
    "Now calculate the probability that you get three of a kind. This is harder!! you have to take two things into account:\n",
    "- you want to get a three of a kind, and not \"by coincidence\" a full house.\n",
    "- you want to get a three of a kind, and not \"by coincidence\" a four of a kind."
   ]
  },
  {
   "cell_type": "markdown",
   "metadata": {},
   "source": [
    "### Solution"
   ]
  },
  {
   "cell_type": "code",
   "execution_count": 47,
   "metadata": {},
   "outputs": [
    {
     "data": {
      "text/plain": [
       "0.02112845138055222"
      ]
     },
     "execution_count": 47,
     "metadata": {},
     "output_type": "execute_result"
    }
   ],
   "source": [
    "# choose 1 card type(ex: 9) out of 13 * choose 3 out of the 4 9s * \n",
    "# choose 2 from the remaining 12 card types * choose 1 out of 4 non-9s * choose 1 of 4\n",
    "# non-9s and not the card you just chose = num\n",
    "num = prob.comb(13,1) * prob.comb(4,3) *prob.comb(12,2) * prob.comb(4,1) *prob.comb(4,1)\n",
    "denom = prob.comb(52,5)\n",
    "\n",
    "three_of_a_kind = num/denom\n",
    "three_of_a_kind # correct answer: 0.02112845138055222"
   ]
  },
  {
   "cell_type": "markdown",
   "metadata": {},
   "source": [
    "# sources"
   ]
  },
  {
   "cell_type": "markdown",
   "metadata": {},
   "source": [
    "https://owlcation.com/stem/Cracking-Combinatorics-and-Probability-Card-Game-Problems"
   ]
  }
 ],
 "metadata": {
  "kernelspec": {
   "display_name": "Python 3",
   "language": "python",
   "name": "python3"
  },
  "language_info": {
   "codemirror_mode": {
    "name": "ipython",
    "version": 3
   },
   "file_extension": ".py",
   "mimetype": "text/x-python",
   "name": "python",
   "nbconvert_exporter": "python",
   "pygments_lexer": "ipython3",
   "version": "3.6.4"
  }
 },
 "nbformat": 4,
 "nbformat_minor": 2
}
